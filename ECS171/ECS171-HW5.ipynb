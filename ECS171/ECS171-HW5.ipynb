{
 "cells": [
  {
   "cell_type": "markdown",
   "metadata": {},
   "source": [
    "Allowed libraries: sklearn, matplotlib, pandas, numpy\n",
    "\n",
    "Dataset: bitstrings.csv"
   ]
  },
  {
   "cell_type": "code",
   "execution_count": 1,
   "metadata": {},
   "outputs": [],
   "source": [
    "import pandas as pd\n",
    "import numpy as np\n",
    "from matplotlib import pyplot as plt\n",
    "import sklearn\n",
    "from sklearn.cluster import AgglomerativeClustering, KMeans"
   ]
  },
  {
   "cell_type": "markdown",
   "metadata": {},
   "source": [
    "# Q1 [25 pts]\n",
    "\n",
    "Load the data from the provided .csv file into a pandas dataframe, it contains a list of 1200 bitstrings which each have a length of 16 bits. Call the dataset \n",
    "S. We call two bitstrings A and B equivalent (A∼B) if you can flip one bit at a time starting from A to produce a sequence of strings A,s1,s2,...,sn,B∈S that are all within the dataset to get the string B. Through this notion of equivalence, we may define an equivalence relation on this set of bit strings. Using agglomerative clustering (sklearn) with a tolerance on distance for early stopping, we can compute the number of equivalence classes by counting the number of clusters. \n",
    "\n",
    "In order to do this, which **linkage rule** should be used (single-linkage, complete-linkage, or average-linkage), which **distance function** should be used (Euclidiean distance, Manhattan distance, or cosine distance), and what should the **threshold distance** be? (`distance_threshold`) Explain why you would pick these parameters.\n",
    "\n",
    "Hints:\n",
    "\n",
    "- An example of an equivalence: Let  S = {0000, 0010, 0110, 1100}. (0000∼0110) because there is a sequence of one bit changes you can make to get from 0000 to 0110 in S: 0000, 0010, 0110. But 1100 is not equivalent to any of the other ones. So {0000,0010,0110} form an equivalence class and {1100} is the other, thus there are 2 clusters.\n",
    "\n",
    "- To use early stopping with tolerance in agglomerative clustering, each time the two closest clusters are about to be merged, the distance between those clusters is compared to the tolerance. If the distance is smaller than the tolerance, the clusters merge and the algorithm continues, otherwise, they aren't merged and the algorithm terminates.\n",
    "\n",
    "- To find out which linkage rule to use, think about how you would figure out which equivalence class the string 0001 belongs to in the example from the first hint.\n"
   ]
  },
  {
   "cell_type": "code",
   "execution_count": 2,
   "metadata": {},
   "outputs": [
    {
     "name": "stdout",
     "output_type": "stream",
     "text": [
      "   b1  b2  b3  b4  b5  b6  b7  b8  b9  b10  b11  b12  b13  b14  b15  b16\n",
      "0   0   0   0   0   0   0   1   1   0    1    1    1    1    1    0    0\n",
      "1   0   0   0   0   0   0   1   1   0    0    1    1    1    1    0    0\n",
      "2   0   0   0   0   0   0   0   1   0    0    1    1    1    1    0    0\n"
     ]
    }
   ],
   "source": [
    "# linkage: single (closest), complete (furthest), average (every combination)\n",
    "    # it defines cluster distance, not points distance\n",
    "# distance: euclidean, MANHATTAN (up/down, then left/right), cosine (angle)\n",
    "S = pd.read_csv(\"bitstrings.csv\", names=['b1','b2','b3','b4','b5','b6','b7','b8','b9',\n",
    "                                         'b10','b11','b12','b13','b14','b15','b16'])\n",
    "print(S.head(3))"
   ]
  },
  {
   "cell_type": "markdown",
   "metadata": {},
   "source": [
    "**First, my reasoning**: Let's say we have some (\"flattened out\" multidimensional) grid, and we have groups of points on the grid at different locations/dimensions. The most important part about the groups of points is that the distances from the next closest are each 1, such that we can connect all these points with a line that is made up of 1-unit segments (each individual segment, btwn. two points, is no more than one unit long).\n",
    "\n",
    "```\n",
    "0 1 0 0 0 0 1-1 \n",
    "  |           |\n",
    "0 1-1-1 0 0 0 1    >> single linkage:   2      # closest distance works best \n",
    "      |       |    >> complete linkage: 8?     # (we must connect groups)\n",
    "0 0 0 1-1 0 1-1    >> average linkage:  ?\n",
    "\n",
    "          ^\n",
    "now replace this bit with a 1\n",
    "\n",
    "0 1 0 0 0 0 1-1 \n",
    "  |           |\n",
    "0 1-1-1 0 0 0 1    >> single linkage:   1      # now they're the same group!\n",
    "      |       |    >> complete linkage: 7?     # but not with other linkages\n",
    "0 0 0 1-1=1=1-1    >> average linkage:  ?      # (still greater than 1)\n",
    "```\n",
    "## My Answers to \\#1: \n",
    "\n",
    "Linkage Rule: **Single**\n",
    "- In order to determine whether a given bit string is in the same group as another, we should be able to draw 1-unit line segments throughout the entire group, including the given bit string. By this logic, to determine whether two groups are the same, the two **closest** points between the groups should be measured; to be the same group, they can only be ≤1 unit apart, and if they are >1 unit apart, they are different groups. \n",
    "    - These line segments are only in one dimension, but the dimension it is in can vary; e.g. 11010 and 01010 has a 1-unit difference (line segment) in the fifth dimension, and this difference (line segment) is in the fifth dimension only. Single linkage works best here because it always ignores other dimensions when finding the distance between points; e.g. looking in the fifth dimension only, before looking at other ones; and therefore, correctly isolates bitwise differences.\n",
    "\n",
    "Distance Function: **Manhattan distance**\n",
    "- There can only be a difference of exactly 1 bit between two elements in the same group, not a Euclidean distance (e.g. √(1+1)) or anything larger. Furthermore, the data is multidimensional, and Manhattan distance is most associated with dimensions in the data. Manhattan distance will also not take the shortest path through multiple dimensions (e.g. drawing a single line from (0,0,0) to (1,1,1)), instead only going through 1 dimension at a time, which fits this problem.\n",
    "\n",
    "Threshold Distance: **> 1**\n",
    "- Any bitstring with 1 bit's difference from the members of a group, is also a member of that group. Conversely, points further than 1 unit from a group are not members of that group."
   ]
  },
  {
   "cell_type": "markdown",
   "metadata": {},
   "source": [
    "# Q2 [25 pts]\n",
    "\n",
    "Perform the clustering using the parameters you picked in Q1. How many equivalence classes (clusters) are there? \n",
    "\n",
    "Create a **bar plot**, showing the **number of strings in each cluster**. (You may need to increase your distance threshold slightly if you don't want the algorithm to terminate when the distance is equal to the threshold.)"
   ]
  },
  {
   "cell_type": "code",
   "execution_count": 3,
   "metadata": {},
   "outputs": [
    {
     "data": {
      "text/plain": [
       "32"
      ]
     },
     "execution_count": 3,
     "metadata": {},
     "output_type": "execute_result"
    }
   ],
   "source": [
    "# https://scikit-learn.org/stable/modules/generated/sklearn.cluster.AgglomerativeClustering.html\n",
    "clustered = AgglomerativeClustering(n_clusters=None, affinity='manhattan', linkage='single', distance_threshold=1.1).fit(S)\n",
    "# print(type(clustered))\n",
    "# print(type(clustered.labels_))\n",
    "results = clustered.labels_\n",
    "len(set(results))"
   ]
  },
  {
   "cell_type": "markdown",
   "metadata": {},
   "source": [
    "**There are 32 equivalence classes in this dataset.**"
   ]
  },
  {
   "cell_type": "code",
   "execution_count": 4,
   "metadata": {},
   "outputs": [
    {
     "name": "stdout",
     "output_type": "stream",
     "text": [
      "7     296\n",
      "5     194\n",
      "0     193\n",
      "2     187\n",
      "1     100\n",
      "6     100\n",
      "3      99\n",
      "4       3\n",
      "8       3\n",
      "10      2\n",
      "12      2\n",
      "30      1\n",
      "9       1\n",
      "11      1\n",
      "13      1\n",
      "dtype: int64\n"
     ]
    },
    {
     "data": {
      "text/plain": [
       "<AxesSubplot:xlabel='Group Numbers'>"
      ]
     },
     "execution_count": 4,
     "metadata": {},
     "output_type": "execute_result"
    },
    {
     "data": {
      "image/png": "[encoded data removed]",
      "text/plain": [
       "<Figure size 432x288 with 1 Axes>"
      ]
     },
     "metadata": {
      "needs_background": "light"
     },
     "output_type": "display_data"
    }
   ],
   "source": [
    "temp = pd.DataFrame(results).value_counts()\n",
    "print(temp[:15])\n",
    "# https://stackoverflow.com/questions/48761486/pandas-unable-to-reset-index-because-name-exist/58497173#58497173\n",
    "temp2 = temp.reset_index(name=\"Count\")   #M: ValueError: 0 already exists in the df, had to keep as Series\n",
    "pd.DataFrame(temp2).plot.bar(x=0, y=\"Count\", xlabel=\"Group Numbers\")    #M: 0 was an int, not str"
   ]
  },
  {
   "cell_type": "markdown",
   "metadata": {},
   "source": [
    "# Q3 [10 pts]\n",
    "\n",
    "Using this clustering, determine if (0000001101111100 ∼ 1011101101111101). \n",
    "\n",
    "What about (1001111011001001 ∼ 1001111011000000)? \n",
    "\n",
    "(You need to show that you used this clustering to determine the answer)."
   ]
  },
  {
   "cell_type": "code",
   "execution_count": 5,
   "metadata": {},
   "outputs": [],
   "source": [
    "## Find index of first, then 2nd, and see if they share the same cluster label\n",
    "# https://stackoverflow.com/questions/42796085/finding-elements-in-a-pandas-dataframe\n",
    "## 000000|110111|1100 ∼ 101110|110111|1101\n",
    "## 100111|101100|1001 ∼ 100111|101100|0000\n",
    "index11 = ((S.query('b1==0 & b2==0 & b3==0 & b4==0 & b5==0 & b6==0 & \\\n",
    "              b7==1 & b8==1 & b9==0 & b10==1 & b11==1 & b12==1 & \\\n",
    "              b13==1 & b14==1 & b15==0 & b16==0').index)[0])\n",
    "index12 = ((S.query('b1==1 & b2==0 & b3==1 & b4==1 & b5==1 & b6==0 & \\\n",
    "              b7==1 & b8==1 & b9==0 & b10==1 & b11==1 & b12==1 & \\\n",
    "              b13==1 & b14==1 & b15==0 & b16==1').index)[0])\n",
    "index21 = ((S.query('b1==1 & b2==0 & b3==0 & b4==1 & b5==1 & b6==1 & \\\n",
    "              b7==1 & b8==0 & b9==1 & b10==1 & b11==0 & b12==0 & \\\n",
    "              b13==1 & b14==0 & b15==0 & b16==1').index)[0])\n",
    "index22 = ((S.query('b1==1 & b2==0 & b3==0 & b4==1 & b5==1 & b6==1 & \\\n",
    "              b7==1 & b8==0 & b9==1 & b10==1 & b11==0 & b12==0 & \\\n",
    "              b13==0 & b14==0 & b15==0 & b16==0').index)[0])"
   ]
  },
  {
   "cell_type": "code",
   "execution_count": 6,
   "metadata": {},
   "outputs": [
    {
     "name": "stdout",
     "output_type": "stream",
     "text": [
      "7\n",
      "7\n",
      "5\n",
      "25\n"
     ]
    }
   ],
   "source": [
    "# Using the clustering results to find the answer\n",
    "print(results[index11])\n",
    "print(results[index12])\n",
    "print(results[index21])\n",
    "print(results[index22])"
   ]
  },
  {
   "cell_type": "markdown",
   "metadata": {},
   "source": [
    "**The first pair of bitstrings are in the same cluster, but not the second pair.**"
   ]
  },
  {
   "cell_type": "markdown",
   "metadata": {},
   "source": [
    "# Q4 [20 pts]\n",
    "\n",
    "Redo the clustering on the dataset, but this time using both of the other linkage rules (keep everything else the same), and report the number of clusters for both. \n",
    "\n",
    "Is there any difference from the number of clusters you found in Q2? If so, explain why."
   ]
  },
  {
   "cell_type": "code",
   "execution_count": 7,
   "metadata": {},
   "outputs": [
    {
     "data": {
      "text/plain": [
       "115    10\n",
       "2       9\n",
       "163     9\n",
       "153     8\n",
       "96      8\n",
       "       ..\n",
       "407     1\n",
       "408     1\n",
       "409     1\n",
       "410     1\n",
       "308     1\n",
       "Length: 618, dtype: int64"
      ]
     },
     "execution_count": 7,
     "metadata": {},
     "output_type": "execute_result"
    }
   ],
   "source": [
    "clustered2 = AgglomerativeClustering(n_clusters=None, affinity='manhattan', linkage='complete', distance_threshold=1.1).fit(S)\n",
    "results2 = clustered2.labels_\n",
    "pd.DataFrame(results2).value_counts()"
   ]
  },
  {
   "cell_type": "markdown",
   "metadata": {},
   "source": [
    "**There are 618 clusters when using complete linkage, everything else held constant.**"
   ]
  },
  {
   "cell_type": "code",
   "execution_count": 8,
   "metadata": {},
   "outputs": [
    {
     "data": {
      "text/plain": [
       "73     13\n",
       "44     12\n",
       "35     10\n",
       "127    10\n",
       "92      9\n",
       "       ..\n",
       "417     1\n",
       "420     1\n",
       "421     1\n",
       "422     1\n",
       "308     1\n",
       "Length: 617, dtype: int64"
      ]
     },
     "execution_count": 8,
     "metadata": {},
     "output_type": "execute_result"
    }
   ],
   "source": [
    "clustered3 = AgglomerativeClustering(n_clusters=None, affinity='manhattan', linkage='average', distance_threshold=1.1).fit(S)\n",
    "results3 = clustered3.labels_\n",
    "pd.DataFrame(results3).value_counts()"
   ]
  },
  {
   "cell_type": "markdown",
   "metadata": {},
   "source": [
    "**There are 617 clusters when using average linkage, everything else held constant.**"
   ]
  },
  {
   "cell_type": "markdown",
   "metadata": {},
   "source": [
    "- **There seem to be far more clusters with these linkages, with other parameters held constant. All of the data points are at least one bit away from each other, and simple linkage is the one that measures closest distances only, so it makes sense that looking any further than the closest two points will result in much smaller - and therefore more numerous - clusters (at least when using the same distance).**"
   ]
  },
  {
   "cell_type": "markdown",
   "metadata": {},
   "source": [
    "# Q5 [20 pts]\n",
    "\n",
    "Cluster the dataset again, this time using K-means clustering with the number of clusters set to the number you found in Q2. Create a bar plot for the size of the clusters. \n",
    "\n",
    "Compare with your plot in Q2, how do these results differ? Give an explanation for this difference."
   ]
  },
  {
   "cell_type": "code",
   "execution_count": 9,
   "metadata": {},
   "outputs": [
    {
     "data": {
      "text/plain": [
       "<AxesSubplot:xlabel='Group Numbers'>"
      ]
     },
     "execution_count": 9,
     "metadata": {},
     "output_type": "execute_result"
    },
    {
     "data": {
      "image/png": "[encoded data removed]",
      "text/plain": [
       "<Figure size 432x288 with 1 Axes>"
      ]
     },
     "metadata": {
      "needs_background": "light"
     },
     "output_type": "display_data"
    }
   ],
   "source": [
    "# https://scikit-learn.org/stable/modules/generated/sklearn.cluster.KMeans.html\n",
    "kmclustered = KMeans(n_clusters=32, random_state=10).fit(S)\n",
    "tempf = pd.DataFrame(kmclustered.labels_).value_counts().reset_index(name=\"Count\")\n",
    "pd.DataFrame(tempf).plot.bar(x=0, y=\"Count\", xlabel=\"Group Numbers\")"
   ]
  },
  {
   "cell_type": "markdown",
   "metadata": {},
   "source": [
    "**The results here have groups that are much more uniform (although not perfectly so) in terms of group membership. This is likely because \\#2's method looked *within* the data for points that were very close to *each other*, while the k-means algorithm started *outside* the data and moved inwards, looking for points that were closest to *its own centroids* (which would still be fairly distant from any/all other points; i.e. *less stringent* than \\#2's, leading to bigger groups with more possible members).**"
   ]
  },
  {
   "cell_type": "code",
   "execution_count": null,
   "metadata": {},
   "outputs": [],
   "source": []
  }
 ],
 "metadata": {
  "kernelspec": {
   "display_name": "Python 3",
   "language": "python",
   "name": "python3"
  },
  "language_info": {
   "codemirror_mode": {
    "name": "ipython",
    "version": 3
   },
   "file_extension": ".py",
   "mimetype": "text/x-python",
   "name": "python",
   "nbconvert_exporter": "python",
   "pygments_lexer": "ipython3",
   "version": "3.8.5"
  }
 },
 "nbformat": 4,
 "nbformat_minor": 4
}
